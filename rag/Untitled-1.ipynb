{
 "cells": [
  {
   "cell_type": "code",
   "execution_count": 13,
   "metadata": {},
   "outputs": [],
   "source": [
    "import git\n",
    "import os\n",
    "import difflib\n",
    "import subprocess"
   ]
  },
  {
   "cell_type": "code",
   "execution_count": 1,
   "metadata": {},
   "outputs": [],
   "source": [
    "repo_path = '/home/hoaithi/ACL/acl_lms_frontend'"
   ]
  },
  {
   "cell_type": "code",
   "execution_count": 3,
   "metadata": {},
   "outputs": [],
   "source": [
    "repo = git.Repo(repo_path)"
   ]
  },
  {
   "cell_type": "code",
   "execution_count": 6,
   "metadata": {},
   "outputs": [
    {
     "data": {
      "text/plain": [
       "['Merge pull request #36 from lhminhfit/user-guards\\n\\nupdate conditions',\n",
       " 'update conditions\\n',\n",
       " 'Merge pull request #35 from lhminhfit/add-user\\n\\nFix some minor bugs',\n",
       " 'Merge pull request #34 from lhminhfit/update-header\\n\\nupdate: display username in header',\n",
       " 'Merge pull request #32 from lhminhfit/clone-course\\n\\nadd: clone course to same/different company',\n",
       " \"fix validators, wrong user's roles\\n\",\n",
       " 'fix: actions styling\\n',\n",
       " 'update: reuse service functions\\n',\n",
       " 'Merge pull request #31 from lhminhfit/add-user\\n\\nadd: add user page',\n",
       " 'update: display username in header\\n',\n",
       " \"update: display users' avatar\\n\",\n",
       " \"Merge pull request #33 from lhminhfit/fix-company-form\\n\\nfix: proper validation, trim all string fields' values\",\n",
       " \"fix: proper validation, trim all string fields\\n' values\\n\",\n",
       " 'add: clone course to same/different company\\n',\n",
       " 'add: add user page\\n',\n",
       " 'Merge pull request #30 from lhminhfit/refactor/logo-appearance\\n\\nfix: new company',\n",
       " 'fix: new company\\n',\n",
       " 'Merge pull request #29 from lhminhfit/refactor/logo-appearance\\n\\nrefactor: update image appearance',\n",
       " 'refactor: update image appearance\\n',\n",
       " 'Merge pull request #28 from lhminhfit/dev_quan_increase_budget_css_file\\n\\nUpdate CSS maximum budget',\n",
       " 'Update CSS maxium budget to fix the error:\\n\\n- detail-info.component.scss exceeded maximum budget. Budget 4.00 kB was not met by 74 bytes with a total of 4.07 kB\\n',\n",
       " 'Merge pull request #27 from lhminhfit/bugfix/01\\n\\nchange: api env',\n",
       " 'change: api env\\n',\n",
       " 'Merge pull request #26 from lhminhfit/bugfix/01\\n\\nBugfix/01',\n",
       " 'fix: layout\\n',\n",
       " \"Merge branch 'dev' into bugfix/01\\n\",\n",
       " 'fix: layout\\n',\n",
       " 'Merge pull request #25 from lhminhfit/bugfix/01\\n\\nBugfix/01',\n",
       " 'refactor: layout\\n',\n",
       " 'fix: conflict\\n',\n",
       " \"Merge branch 'bugfix/01' into dev\\n\",\n",
       " 'resolve: gui\\n',\n",
       " \"Merge branch 'bugfix/01' into refactor-api\\n\",\n",
       " 'refactor\\n',\n",
       " \"Merge branch 'bugfix/01' into man/users-management-page\\n\",\n",
       " \"Merge branch 'dev' into man/users-management-page\\n\",\n",
       " 'resolve: lack of component import\\n',\n",
       " 'resolve: conflict\\n',\n",
       " 'fix: login error\\n',\n",
       " 'resolve: conflict\\n',\n",
       " \"Merge pull request #24 from lhminhfit/sidebar-update\\n\\nupdate: sidebar's links and permission\",\n",
       " 'Merge pull request #23 from lhminhfit/add-file-dialog\\n\\nAdd file dialog',\n",
       " 'update: links permission\\n',\n",
       " \"update: sidebar's links and permission\\n\",\n",
       " 'resolve conflicts\\n',\n",
       " \"Merge branch 'dev' into add-file-dialog\\n\",\n",
       " 'Merge pull request #22 from lhminhfit/types\\n\\nTypes',\n",
       " 'fix: small bug related to async\\n',\n",
       " 'update: auto reload file list after uploading new files\\n',\n",
       " 'update: update models to match data from API\\n',\n",
       " 'add: assignment page, update: add file dialog\\n',\n",
       " 'fix: bundle size\\n',\n",
       " 'fix: scss budget\\n',\n",
       " 'Merge pull request #21 from lhminhfit/fix-broken-lib\\n\\nfix: remove ngx-scorm-wrapper',\n",
       " 'fix: remove ngx-scorm-wrapper\\n',\n",
       " 'Merge pull request #20 from lhminhfit/feature/my-project\\n\\nadd: my project page',\n",
       " 'resolve: conflic\\n',\n",
       " 'add: my project page\\n',\n",
       " 'Merge pull request #19 from lhminhfit/update-sidebar\\n\\nUpdate sidebar links',\n",
       " 'Merge pull request #18 from lhminhfit/course-topics\\n\\nAllow user to view media directly',\n",
       " 'use hard-coded links in sidebar\\n',\n",
       " 'add: view media file\\n',\n",
       " 'add companyId field in user token, use it in API calls\\n',\n",
       " 'add: add document by url\\nupdate: include old files when adding new documents\\nupdate: re-style buttons\\n',\n",
       " \"Merge pull request #16 from lhminhfit/course-topics\\n\\nSupport adding documents and assignments to courses' topics\",\n",
       " 'add: add file to course topics, add assignments\\n',\n",
       " 'Merge pull request #15 from lhminhfit/check-token-expire\\n\\nLogout user when token expires',\n",
       " 'logout user when token expires\\n',\n",
       " 'Merge pull request #14 from lhminhfit/add-course-page\\n\\nupdate add course page, course dashboard page',\n",
       " 'update add course page, course dashboard page\\n',\n",
       " 'Merge pull request #12 from lhminhfit/man/courses\\n\\nCourse pages',\n",
       " \"Merge branch 'man/settings' into man/courses\\n\",\n",
       " 'refactor api calls\\n',\n",
       " 'convert user table to mat-table\\n',\n",
       " \"Merge branch 'dev' into man/courses\",\n",
       " 'resolve conflict\\n',\n",
       " 'Merge pull request #11 from lhminhfit/man/companies\\n\\nCompany UI update',\n",
       " 'add settings page and category section\\n',\n",
       " 'add add-topic page, small changes\\n',\n",
       " \"Add checkbox for company's status, change to camelCase convention\\n\",\n",
       " 'add guards: only super admin and admin can access companies route\\n',\n",
       " 'optimize companies pages\\n',\n",
       " 'use mat-table for companies table\\n',\n",
       " 'add sending post and put request when create/update company, update apiPut\\n',\n",
       " 'follow up with last commit\\n',\n",
       " 'add update pages, update routing, company model\\n',\n",
       " \"fix upload company's logo\\n\",\n",
       " 'add missing styles and routes\\n',\n",
       " 'add page to create new company\\n',\n",
       " 'use ng-template for table row instead of separated component\\n',\n",
       " 'add multiple screens for course management\\n',\n",
       " 'Merge pull request #10 from lhminhfit/feature/company-listing\\n\\nFeature/company listing',\n",
       " 'add: update user\\n',\n",
       " 'add: user detail page\\n',\n",
       " 'add: company page and service\\n',\n",
       " 'refactor: authen rxjs flow\\n',\n",
       " 'Merge pull request #9 from lhminhfit/feature/login\\n\\nFeature/login',\n",
       " 'add: superadmin/admin guard\\n',\n",
       " 'add: user management page\\n',\n",
       " 'refactor: store jwt session by cookie\\n',\n",
       " 'refactor: api and authen service\\n',\n",
       " 'Merge pull request #8 from lhminhfit/refactor/app\\n\\nRefactor/app',\n",
       " 'add: dockerfile for deploy with nginx\\n',\n",
       " 'completed: core module\\n',\n",
       " 'complete: user module\\n',\n",
       " 'init: core module & user module\\n',\n",
       " 'Merge pull request #7 from lhminhfit/man/login-service\\n\\nadd API URL',\n",
       " 'add filter to users table\\n',\n",
       " 'add API URL\\n',\n",
       " 'Merge pull request #6 from lhminhfit/man/login-service\\n\\nImplement login service and use it in login page',\n",
       " 'add users management page\\n',\n",
       " \"small styling's fixes\\n\",\n",
       " 'add login service, use it in login page\\n',\n",
       " \"Merge branch 'dev' into man/course-management-page\",\n",
       " 'add dashboard page\\n',\n",
       " 'Merge pull request #4 from lhminhfit/init-models-services\\n\\nInit models services',\n",
       " 'init models n services\\n',\n",
       " 'Merge pull request #3 from lhminhfit/login-component-scss\\n\\nLogin component scss',\n",
       " 'add: storage service\\n',\n",
       " 'add: user, company, session models\\n',\n",
       " 'add: change-pass and forgot-pass component\\n',\n",
       " 'refactor: tailwind to scss\\n',\n",
       " 'Add home page, header and login component\\n',\n",
       " 'Init project\\n']"
      ]
     },
     "execution_count": 6,
     "metadata": {},
     "output_type": "execute_result"
    }
   ],
   "source": [
    "commit_messages = [commit.message for commit in repo.iter_commits()]\n",
    "commit_messages"
   ]
  },
  {
   "cell_type": "code",
   "execution_count": 14,
   "metadata": {},
   "outputs": [],
   "source": [
    "def get_commit_diff(commit):\n",
    "    diffs = []\n",
    "    parent_commit = commit.parents[0] if commit.parents else None\n",
    "    if parent_commit:\n",
    "        diff_cmd = ['git', 'diff', parent_commit.hexsha, commit.hexsha]\n",
    "        diff_output = subprocess.check_output(diff_cmd, cwd=repo_path)\n",
    "        diffs.append(diff_output.decode('utf-8'))\n",
    "    return diffs"
   ]
  },
  {
   "cell_type": "code",
   "execution_count": 18,
   "metadata": {},
   "outputs": [],
   "source": [
    "commit_diffs = {}\n",
    "for commit in repo.iter_commits():\n",
    "    commit_diffs[commit.hexsha] = get_commit_diff(commit)\n"
   ]
  },
  {
   "cell_type": "code",
   "execution_count": 27,
   "metadata": {},
   "outputs": [
    {
     "ename": "TypeError",
     "evalue": "'list' object is not an iterator",
     "output_type": "error",
     "traceback": [
      "\u001b[0;31m---------------------------------------------------------------------------\u001b[0m",
      "\u001b[0;31mTypeError\u001b[0m                                 Traceback (most recent call last)",
      "Cell \u001b[0;32mIn[27], line 1\u001b[0m\n\u001b[0;32m----> 1\u001b[0m \u001b[38;5;28;43mnext\u001b[39;49m\u001b[43m(\u001b[49m\u001b[38;5;28;43mnext\u001b[39;49m\u001b[43m(\u001b[49m\u001b[38;5;28;43miter\u001b[39;49m\u001b[43m(\u001b[49m\u001b[43mcommit_diffs\u001b[49m\u001b[38;5;241;43m.\u001b[39;49m\u001b[43mvalues\u001b[49m\u001b[43m(\u001b[49m\u001b[43m)\u001b[49m\u001b[43m)\u001b[49m\u001b[43m)\u001b[49m\u001b[43m)\u001b[49m\n",
      "\u001b[0;31mTypeError\u001b[0m: 'list' object is not an iterator"
     ]
    }
   ],
   "source": [
    "next(iter(commit_diffs.values()))"
   ]
  },
  {
   "cell_type": "code",
   "execution_count": null,
   "metadata": {},
   "outputs": [],
   "source": []
  }
 ],
 "metadata": {
  "kernelspec": {
   "display_name": "ezcommit-kernel",
   "language": "python",
   "name": "ezcommit-env"
  },
  "language_info": {
   "codemirror_mode": {
    "name": "ipython",
    "version": 3
   },
   "file_extension": ".py",
   "mimetype": "text/x-python",
   "name": "python",
   "nbconvert_exporter": "python",
   "pygments_lexer": "ipython3",
   "version": "3.10.14"
  }
 },
 "nbformat": 4,
 "nbformat_minor": 2
}
